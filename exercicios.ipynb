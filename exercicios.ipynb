{
 "cells": [
  {
   "cell_type": "code",
   "execution_count": 3,
   "id": "38ebb86e-7e6e-435a-a500-501e79f78d4c",
   "metadata": {},
   "outputs": [
    {
     "name": "stdout",
     "output_type": "stream",
     "text": [
      "[1, 2]\n",
      "[3, 4]\n"
     ]
    }
   ],
   "source": [
    "matriz = [[1, 2], \n",
    "          [3, 4]]\n",
    "\n",
    "for linha in matriz:\n",
    "    print(linha)\n"
   ]
  },
  {
   "cell_type": "code",
   "execution_count": 7,
   "id": "56115673-c422-4095-9058-9b2e9a1ba186",
   "metadata": {},
   "outputs": [
    {
     "name": "stdin",
     "output_type": "stream",
     "text": [
      "Digite o numero da posição [1, 1]:  1\n",
      "Digite o numero da posição [1, 2]:  2\n",
      "Digite o numero da posição [1, 3]:  3\n",
      "Digite o numero da posição [2, 1]:  4\n",
      "Digite o numero da posição [2, 2]:  5\n",
      "Digite o numero da posição [2, 3]:  6\n",
      "Digite o numero da posição [3, 1]:  7\n",
      "Digite o numero da posição [3, 2]:  8\n",
      "Digite o numero da posição [3, 3]:  9\n"
     ]
    },
    {
     "name": "stdout",
     "output_type": "stream",
     "text": [
      "Matriz 3x3:\n",
      "[1, 2, 3]\n",
      "[4, 5, 6]\n",
      "[7, 8, 9]\n"
     ]
    }
   ],
   "source": [
    "matriz = []\n",
    "\n",
    "for i in range(3):\n",
    "    linha = []\n",
    "    for j in range(3):\n",
    "        elemento = int(input(f\"Digite o numero da posição [{i+1}, {j+1}]: \"))\n",
    "        linha.append(elemento)\n",
    "    matriz.append(linha)\n",
    "\n",
    "print(\"Matriz 3x3:\")\n",
    "for linha in matriz:\n",
    "    print(linha)\n"
   ]
  },
  {
   "cell_type": "code",
   "execution_count": 10,
   "id": "b4e68f4d-8e9b-4435-afe4-71a42c919e0a",
   "metadata": {},
   "outputs": [
    {
     "name": "stdin",
     "output_type": "stream",
     "text": [
      "Digite o numero a ser dobrado:  50\n"
     ]
    },
    {
     "data": {
      "text/plain": [
       "100"
      ]
     },
     "execution_count": 10,
     "metadata": {},
     "output_type": "execute_result"
    }
   ],
   "source": [
    "def recebe_dobro():\n",
    "    n = int(input(f\"Digite o numero a ser dobrado: \")) * 2\n",
    "    return n\n",
    "\n",
    "recebe_dobro()"
   ]
  },
  {
   "cell_type": "code",
   "execution_count": 27,
   "id": "fa640af5-05f1-4f31-8a9c-50cae3eeb896",
   "metadata": {},
   "outputs": [
    {
     "name": "stdin",
     "output_type": "stream",
     "text": [
      "Digite o numero para descobrir se é ou não par:  3\n"
     ]
    },
    {
     "name": "stdout",
     "output_type": "stream",
     "text": [
      "O numero digitado 3 é impar\n"
     ]
    }
   ],
   "source": [
    "def impar_par():\n",
    "    n1 = int(input(f\"Digite o numero para descobrir se é ou não par: \"))\n",
    "\n",
    "    if n1 % 2 == 0:\n",
    "        print(f\"O numero digitado {n1} é par\")\n",
    "    else:\n",
    "        print(f\"O numero digitado {n1} é impar\")\n",
    "\n",
    "impar_par()\n"
   ]
  },
  {
   "cell_type": "code",
   "execution_count": 33,
   "id": "c7fef416-0dbc-436c-992f-64f2febbd9fa",
   "metadata": {},
   "outputs": [
    {
     "name": "stdout",
     "output_type": "stream",
     "text": [
      "1\n",
      "3\n",
      "5\n",
      "7\n",
      "9\n",
      "Soma dos números ímpares: 25\n"
     ]
    }
   ],
   "source": [
    "def soma_impares():\n",
    "    lista_s_i = [1, 2, 3, 4, 5, 6, 7, 8, 9]\n",
    "    \n",
    "    soma = 0  \n",
    "    \n",
    "    for i in lista_s_i:\n",
    "        if i % 2 != 0: \n",
    "            print(i)  \n",
    "            soma += i  \n",
    "    \n",
    "    print(f\"Soma dos números ímpares: {soma}\")  \n",
    "\n",
    "soma_impares()\n"
   ]
  },
  {
   "cell_type": "code",
   "execution_count": 34,
   "id": "9fc3f12a-96ab-4857-829d-2e60a5060510",
   "metadata": {},
   "outputs": [
    {
     "name": "stdin",
     "output_type": "stream",
     "text": [
      "Digite um número para calcular sua raiz quadrada:  2\n"
     ]
    },
    {
     "name": "stdout",
     "output_type": "stream",
     "text": [
      "A raiz quadrada de 2.0 é 1.4142135623730951\n"
     ]
    }
   ],
   "source": [
    "import math  \n",
    "\n",
    "numero = float(input(\"Digite um número para calcular sua raiz quadrada: \"))\n",
    "\n",
    "raiz_quadrada = math.sqrt(numero)\n",
    "\n",
    "print(f\"A raiz quadrada de {numero} é {raiz_quadrada}\")\n"
   ]
  },
  {
   "cell_type": "code",
   "execution_count": 38,
   "id": "ff66028a-f370-4fad-a11f-23dba3af3374",
   "metadata": {},
   "outputs": [
    {
     "name": "stdin",
     "output_type": "stream",
     "text": [
      "Digite uma data no formato dd/mm/aaaa:  10/01/2007\n"
     ]
    },
    {
     "name": "stdout",
     "output_type": "stream",
     "text": [
      "A data 10/01/2007 corresponde a uma quarta-feira.\n"
     ]
    }
   ],
   "source": [
    "import locale\n",
    "from datetime import datetime\n",
    "\n",
    "locale.setlocale(locale.LC_TIME, 'pt_BR.UTF-8')\n",
    "\n",
    "data_str = input(\"Digite uma data no formato dd/mm/aaaa: \")\n",
    "data = datetime.strptime(data_str, \"%d/%m/%Y\")\n",
    "dia_da_semana = data.strftime(\"%A\")\n",
    "\n",
    "print(f\"A data {data_str} corresponde a uma {dia_da_semana}.\")\n"
   ]
  },
  {
   "cell_type": "code",
   "execution_count": 40,
   "id": "e5c49609-3c1a-4d32-912c-bdd03eb77488",
   "metadata": {},
   "outputs": [
    {
     "name": "stdin",
     "output_type": "stream",
     "text": [
      "Digite um número:  500\n"
     ]
    },
    {
     "name": "stdout",
     "output_type": "stream",
     "text": [
      "Valor aleatório entre 1 e 500: 234\n"
     ]
    }
   ],
   "source": [
    "import random\n",
    "\n",
    "numero = int(input(\"Digite um número: \"))\n",
    "valor_aleatorio = random.randint(1, numero)\n",
    "\n",
    "print(f\"Valor aleatório entre 1 e {numero}: {valor_aleatorio}\")"
   ]
  },
  {
   "cell_type": "code",
   "execution_count": 42,
   "id": "377415b3-e80a-47ce-b0b1-9a92caac422c",
   "metadata": {},
   "outputs": [
    {
     "name": "stdout",
     "output_type": "stream",
     "text": [
      "Lista de números aleatórios: [91, 74, 24, 49, 49]\n"
     ]
    }
   ],
   "source": [
    "import random\n",
    "\n",
    "numeros_aleatorios = [random.randint(1, 100) for _ in range(5)]\n",
    "\n",
    "print(\"Lista de números aleatórios:\", numeros_aleatorios)\n"
   ]
  },
  {
   "cell_type": "code",
   "execution_count": 43,
   "id": "7c34fa1e-6900-43a4-9d99-d547b796663e",
   "metadata": {},
   "outputs": [
    {
     "name": "stdout",
     "output_type": "stream",
     "text": [
      "O resultado do lançamento do dado é: 4\n"
     ]
    }
   ],
   "source": [
    "import time\n",
    "\n",
    "resultado = 4  \n",
    "\n",
    "time.sleep(2)\n",
    "\n",
    "print(f\"O resultado do lançamento do dado é: {resultado}\")\n"
   ]
  },
  {
   "cell_type": "code",
   "execution_count": 46,
   "id": "f0db932c-5130-471a-a3db-a03fd26b4388",
   "metadata": {},
   "outputs": [],
   "source": [
    "with open(\"texto.txt\", \"w\", encoding=\"utf-8\") as arquivo:\n",
    "    arquivo.write(\"Python é incrível!\")\n"
   ]
  },
  {
   "cell_type": "code",
   "execution_count": 47,
   "id": "4914e2b1-f977-4f3f-a8fd-273898535247",
   "metadata": {},
   "outputs": [
    {
     "name": "stdout",
     "output_type": "stream",
     "text": [
      "Python é incrível!\n"
     ]
    }
   ],
   "source": [
    "with open(\"texto.txt\", \"r\", encoding=\"utf-8\") as arquivo:\n",
    "    conteudo = arquivo.read()\n",
    "\n",
    "print(conteudo)\n"
   ]
  },
  {
   "cell_type": "code",
   "execution_count": 48,
   "id": "18e4eadf-87f7-494f-973d-d241f6eb2d83",
   "metadata": {},
   "outputs": [
    {
     "name": "stdin",
     "output_type": "stream",
     "text": [
      "Digite o nome:  Miguel \n",
      "Digite o telefone:  11942271174\n"
     ]
    },
    {
     "name": "stdout",
     "output_type": "stream",
     "text": [
      "Contato salvo com sucesso!\n"
     ]
    }
   ],
   "source": [
    "nome = input(\"Digite o nome: \")\n",
    "telefone = input(\"Digite o telefone: \")\n",
    "\n",
    "with open(\"contatos.txt\", \"a\", encoding=\"utf-8\") as arquivo:\n",
    "    arquivo.write(f\"Nome: {nome}, Telefone: {telefone}\\n\")\n",
    "\n",
    "print(\"Contato salvo com sucesso!\")\n"
   ]
  },
  {
   "cell_type": "code",
   "execution_count": 49,
   "id": "5922c785-2d91-4052-b724-abbe22fbc990",
   "metadata": {},
   "outputs": [
    {
     "name": "stdin",
     "output_type": "stream",
     "text": [
      "Digite um número:  5\n"
     ]
    },
    {
     "name": "stdout",
     "output_type": "stream",
     "text": [
      "O resultado da divisão de 100 por 5.0 é 20.0\n"
     ]
    }
   ],
   "source": [
    "numero = float(input(\"Digite um número: \"))\n",
    "\n",
    "try:\n",
    "\n",
    "    resultado = 100 / numero\n",
    "    print(f\"O resultado da divisão de 100 por {numero} é {resultado}\")\n",
    "except ZeroDivisionError:\n",
    "    \n",
    "    print(\"Erro! Não é possível dividir por zero.\")\n"
   ]
  },
  {
   "cell_type": "code",
   "execution_count": 51,
   "id": "7c49ab6d-a231-41c9-bfcd-40cfccf393e6",
   "metadata": {},
   "outputs": [
    {
     "name": "stdin",
     "output_type": "stream",
     "text": [
      "Digite um número:  dajdaskl\n"
     ]
    },
    {
     "name": "stdout",
     "output_type": "stream",
     "text": [
      "Erro! Você não digitou um número válido.\n"
     ]
    }
   ],
   "source": [
    "try:\n",
    "    numero = float(input(\"Digite um número: \"))\n",
    "    print(f\"O número digitado foi {numero}.\")\n",
    "except ValueError:\n",
    "    print(\"Erro! Você não digitou um número válido.\")\n"
   ]
  },
  {
   "cell_type": "code",
   "execution_count": 53,
   "id": "622c55fb-58e5-4b93-998a-cd3f37f56c53",
   "metadata": {},
   "outputs": [
    {
     "name": "stdin",
     "output_type": "stream",
     "text": [
      "Digite um número inteiro:  20\n"
     ]
    },
    {
     "name": "stdout",
     "output_type": "stream",
     "text": [
      "O quadrado de 20 é 400.\n"
     ]
    }
   ],
   "source": [
    "try:\n",
    "    numero = int(input(\"Digite um número inteiro: \"))\n",
    "    quadrado = numero ** 2\n",
    "    print(f\"O quadrado de {numero} é {quadrado}.\")\n",
    "except ValueError:\n",
    "    print(\"Erro! Você não digitou um número inteiro válido.\")"
   ]
  },
  {
   "cell_type": "code",
   "execution_count": 58,
   "id": "04a35356-5727-42a7-82ba-7d8e62add9de",
   "metadata": {},
   "outputs": [
    {
     "name": "stdin",
     "output_type": "stream",
     "text": [
      "Digite os 5 elementos da linha 1:  1 2 3 4 5\n",
      "Digite os 5 elementos da linha 2:  1 2 3 4 5\n",
      "Digite os 5 elementos da linha 3:  1 2 3 4 5\n",
      "Digite os 5 elementos da linha 4:  1 2 3 4 5\n",
      "Digite os 5 elementos da linha 5:  1 2 3 4 5\n"
     ]
    },
    {
     "name": "stdout",
     "output_type": "stream",
     "text": [
      "Soma da linha 3: 15\n",
      "Soma da coluna 2: 10\n",
      "Soma da diagonal principal: 15\n",
      "Soma da diagonal secundária: 15\n",
      "Soma de todos os elementos da matriz: 75\n"
     ]
    }
   ],
   "source": [
    "def ler_matriz():\n",
    "    matriz = []\n",
    "    for i in range(5):\n",
    "        linha = list(map(int, input(f\"Digite os 5 elementos da linha {i+1}: \").split()))\n",
    "        if len(linha) != 5:\n",
    "            print(\"Erro! Você deve digitar exatamente 5 números por linha.\")\n",
    "            return None\n",
    "        matriz.append(linha)\n",
    "    return matriz\n",
    "\n",
    "def calcular_somas(matriz):\n",
    "    soma_linha_3 = sum(matriz[2])\n",
    "    soma_coluna_2 = sum(matriz[i][1] for i in range(5))\n",
    "    soma_diagonal_principal = sum(matriz[i][i] for i in range(5))\n",
    "    soma_diagonal_secundaria = sum(matriz[i][4-i] for i in range(5))\n",
    "    soma_total = sum(sum(linha) for linha in matriz)\n",
    "\n",
    "    print(f\"Soma da linha 3: {soma_linha_3}\")\n",
    "    print(f\"Soma da coluna 2: {soma_coluna_2}\")\n",
    "    print(f\"Soma da diagonal principal: {soma_diagonal_principal}\")\n",
    "    print(f\"Soma da diagonal secundária: {soma_diagonal_secundaria}\")\n",
    "    print(f\"Soma de todos os elementos da matriz: {soma_total}\")\n",
    "\n",
    "matriz = ler_matriz()\n",
    "\n",
    "if matriz:\n",
    "    calcular_somas(matriz)\n"
   ]
  },
  {
   "cell_type": "code",
   "execution_count": 61,
   "id": "4bb76728-1505-45a4-9c13-0b3813329be6",
   "metadata": {},
   "outputs": [
    {
     "name": "stdout",
     "output_type": "stream",
     "text": [
      "Digite os elementos da matriz A:\n"
     ]
    },
    {
     "name": "stdin",
     "output_type": "stream",
     "text": [
      "Digite os 6 elementos da linha 1:  1 2 3 4 5 6 \n",
      "Digite os 6 elementos da linha 2:  7 8 9 10 11 12\n",
      "Digite os 6 elementos da linha 3:  13 14 15 16 17 18\n",
      "Digite os 6 elementos da linha 4:  19 20 21 22 23 24\n"
     ]
    },
    {
     "name": "stdout",
     "output_type": "stream",
     "text": [
      "Digite os elementos da matriz B:\n"
     ]
    },
    {
     "name": "stdin",
     "output_type": "stream",
     "text": [
      "Digite os 6 elementos da linha 1:  25 26 27 28 29 30\n",
      "Digite os 6 elementos da linha 2:  31 32 33 34 35 36 \n",
      "Digite os 6 elementos da linha 3:  37 38 39 40 41 42\n",
      "Digite os 6 elementos da linha 4:  43 44 45 46 47 48\n"
     ]
    },
    {
     "name": "stdout",
     "output_type": "stream",
     "text": [
      "\n",
      "Matriz S (Soma):\n",
      "[26, 28, 30, 32, 34, 36]\n",
      "[38, 40, 42, 44, 46, 48]\n",
      "[50, 52, 54, 56, 58, 60]\n",
      "[62, 64, 66, 68, 70, 72]\n",
      "\n",
      "Matriz D (Diferença):\n",
      "[-24, -24, -24, -24, -24, -24]\n",
      "[-24, -24, -24, -24, -24, -24]\n",
      "[-24, -24, -24, -24, -24, -24]\n",
      "[-24, -24, -24, -24, -24, -24]\n"
     ]
    }
   ],
   "source": [
    "def ler_matriz(linhas, colunas):\n",
    "    matriz = []\n",
    "    for i in range(linhas):\n",
    "        linha = list(map(int, input(f\"Digite os {colunas} elementos da linha {i+1}: \").split()))\n",
    "        if len(linha) != colunas:\n",
    "            print(f\"Erro! Você deve digitar exatamente {colunas} números por linha.\")\n",
    "            return None\n",
    "        matriz.append(linha)\n",
    "    return matriz\n",
    "\n",
    "def somar_matrizes(matriz_a, matriz_b):\n",
    "    matriz_s = [[matriz_a[i][j] + matriz_b[i][j] for j in range(6)] for i in range(4)]\n",
    "    return matriz_s\n",
    "\n",
    "def subtrair_matrizes(matriz_a, matriz_b):\n",
    "    matriz_d = [[matriz_a[i][j] - matriz_b[i][j] for j in range(6)] for i in range(4)]\n",
    "    return matriz_d\n",
    "\n",
    "def exibir_matriz(matriz, nome):\n",
    "    print(f\"\\nMatriz {nome}:\")\n",
    "    for linha in matriz:\n",
    "        print(linha)\n",
    "\n",
    "print(\"Digite os elementos da matriz A:\")\n",
    "matriz_a = ler_matriz(4, 6)\n",
    "\n",
    "print(\"Digite os elementos da matriz B:\")\n",
    "matriz_b = ler_matriz(4, 6)\n",
    "\n",
    "if matriz_a and matriz_b:\n",
    "\n",
    "    matriz_s = somar_matrizes(matriz_a, matriz_b)\n",
    "    matriz_d = subtrair_matrizes(matriz_a, matriz_b)\n",
    "\n",
    "    exibir_matriz(matriz_s, \"S (Soma)\")\n",
    "    exibir_matriz(matriz_d, \"D (Diferença)\")\n"
   ]
  },
  {
   "cell_type": "code",
   "execution_count": 63,
   "id": "1b22bab6-89ff-4f76-86ee-d1e6e9691b85",
   "metadata": {},
   "outputs": [
    {
     "name": "stdout",
     "output_type": "stream",
     "text": [
      "Soma dos elementos marcados no padrão 1: 102\n",
      "Soma dos elementos marcados no padrão 2: 102\n",
      "Soma dos elementos marcados no padrão 3: 96\n"
     ]
    }
   ],
   "source": [
    "matriz = [\n",
    "    [1, 2, 3, 4],\n",
    "    [5, 6, 7, 8],\n",
    "    [9, 10, 11, 12],\n",
    "    [13, 14, 15, 16]\n",
    "]\n",
    "\n",
    "padroes = [\n",
    "    [(0,0), (0,1), (0,2), (0,3), (1,0), (1,3), (2,0), (2,3), (3,0), (3,1), (3,2), (3,3)],  \n",
    "    [(0,0), (0,1), (0,2), (0,3), (1,1), (1,2), (2,1), (2,2), (3,0), (3,1), (3,2), (3,3)],  \n",
    "    [(0,0), (1,0), (2,0), (3,0), (0,1), (1,1), (2,1), (3,1), (0,2), (1,2), (2,2), (3,2)]\n",
    "]\n",
    "\n",
    "# Calculando as somas para cada padrão\n",
    "for i, padrao in enumerate(padroes, start=1):\n",
    "    soma = sum(matriz[x][y] for x, y in padrao)\n",
    "    print(f\"Soma dos elementos marcados no padrão {i}: {soma}\")"
   ]
  },
  {
   "cell_type": "code",
   "execution_count": 64,
   "id": "5a9eec84-6c43-4ac5-b9eb-4674c9554d7d",
   "metadata": {},
   "outputs": [
    {
     "name": "stdin",
     "output_type": "stream",
     "text": [
      "Digite os 5 elementos da linha 1:  1 2 3 4 5\n",
      "Digite os 5 elementos da linha 2:  1 2 3 4 5\n",
      "Digite os 5 elementos da linha 3:  1 2 3 4 5\n",
      "Digite os 5 elementos da linha 4:  1 2 3 4 5\n",
      "Digite os 5 elementos da linha 5:  1 2 3 4 5\n",
      "Digite um número X para verificar se existe na matriz:  3\n"
     ]
    },
    {
     "name": "stdout",
     "output_type": "stream",
     "text": [
      "O número 3 existe na matriz.\n"
     ]
    }
   ],
   "source": [
    "def ler_matriz(linhas, colunas):\n",
    "    matriz = []\n",
    "    for i in range(linhas):\n",
    "        linha = list(map(int, input(f\"Digite os {colunas} elementos da linha {i+1}: \").split()))\n",
    "        if len(linha) != colunas:\n",
    "            print(f\"Erro! Você deve digitar exatamente {colunas} números por linha.\")\n",
    "            return None\n",
    "        matriz.append(linha)\n",
    "    return matriz\n",
    "\n",
    "def verificar_elemento(matriz, x):\n",
    "    for linha in matriz:\n",
    "        if x in linha:\n",
    "            return True\n",
    "    return False\n",
    "\n",
    "matriz_d = ler_matriz(5, 5)\n",
    "\n",
    "if matriz_d:\n",
    "    x = int(input(\"Digite um número X para verificar se existe na matriz: \"))\n",
    "    \n",
    "    if verificar_elemento(matriz_d, x):\n",
    "        print(f\"O número {x} existe na matriz.\")\n",
    "    else:\n",
    "        print(f\"O número {x} NÃO existe na matriz.\")\n"
   ]
  },
  {
   "cell_type": "code",
   "execution_count": 65,
   "id": "76761425-8d84-4b8d-a445-c5037fb9077a",
   "metadata": {},
   "outputs": [
    {
     "name": "stdin",
     "output_type": "stream",
     "text": [
      "Digite os 5 elementos da linha 1:  1 2 3 4 5\n",
      "Digite os 5 elementos da linha 2:  1 2 3 4 5\n",
      "Digite os 5 elementos da linha 3:  1 2 3 4 5\n",
      "Digite os 5 elementos da linha 4:  1 2 3 4 5\n",
      "Digite os 5 elementos da linha 5:  1 2 3 4 5\n"
     ]
    },
    {
     "name": "stdout",
     "output_type": "stream",
     "text": [
      "\n",
      "Vetor SL (Somas das Linhas):\n",
      "[15, 15, 15, 15, 15]\n",
      "\n",
      "Vetor SC (Somas das Colunas):\n",
      "[5, 10, 15, 20, 25]\n"
     ]
    }
   ],
   "source": [
    "def ler_matriz(linhas, colunas):\n",
    "    matriz = []\n",
    "    for i in range(linhas):\n",
    "        linha = list(map(int, input(f\"Digite os {colunas} elementos da linha {i+1}: \").split()))\n",
    "        if len(linha) != colunas:\n",
    "            print(f\"Erro! Você deve digitar exatamente {colunas} números por linha.\")\n",
    "            return None\n",
    "        matriz.append(linha)\n",
    "    return matriz\n",
    "\n",
    "def somar_linhas(matriz):\n",
    "    return [sum(linha) for linha in matriz]\n",
    "\n",
    "def somar_colunas(matriz):\n",
    "    colunas = len(matriz[0])\n",
    "    soma_colunas = [sum(matriz[i][j] for i in range(len(matriz))) for j in range(colunas)]\n",
    "    return soma_colunas\n",
    "\n",
    "def exibir_vetor(vetor, nome):\n",
    "    print(f\"\\nVetor {nome}:\")\n",
    "    print(vetor)\n",
    "\n",
    "matriz_g = ler_matriz(5, 5)\n",
    "\n",
    "if matriz_g:\n",
    "\n",
    "    vetor_sl = somar_linhas(matriz_g)\n",
    "    vetor_sc = somar_colunas(matriz_g)\n",
    "    \n",
    "    exibir_vetor(vetor_sl, \"SL (Somas das Linhas)\")\n",
    "    exibir_vetor(vetor_sc, \"SC (Somas das Colunas)\")\n"
   ]
  },
  {
   "cell_type": "code",
   "execution_count": 69,
   "id": "f7112bb2-df56-43b0-ac76-236ac78826a9",
   "metadata": {},
   "outputs": [
    {
     "name": "stdin",
     "output_type": "stream",
     "text": [
      "Digite os 13 elementos da linha 1:  1 2 3 4 5 6 7 8 9 10 11 12 13\n",
      "Digite os 13 elementos da linha 2:  1 2 3 4 5 6 7 8 9 10 11 12 13\n",
      "Digite os 13 elementos da linha 3:  1 2 3 4 5 6 7 8 9 10 11 12 13\n",
      "Digite os 13 elementos da linha 4:  1 2 3 4 5 6 7 8 9 10 11 12 13\n",
      "Digite os 13 elementos da linha 5:  1 2 3 4 5 6 7 8 9 10 11 12 13\n",
      "Digite os 13 elementos da linha 6:  1 2 3 4 5 6 7 8 9 10 11 12 13\n",
      "Digite os 13 elementos da linha 7:  1 2 3 4 5 6 7 8 9 10 11 12 13\n",
      "Digite os 13 elementos da linha 8:  1 2 3 4 5 6 7 8 9 10 11 12 13\n",
      "Digite os 13 elementos da linha 9:  1 2 3 4 5 6 7 8 9 10 11 12 13\n",
      "Digite os 13 elementos da linha 10:  1 2 3 4 5 6 7 8 9 10 11 12 13\n",
      "Digite os 13 elementos da linha 11:  1 2 3 4 5 6 7 8 9 10 11 12 13\n",
      "Digite os 13 elementos da linha 12:  1 2 3 4 5 6 7 8 9 10 11 12 13\n"
     ]
    },
    {
     "name": "stdout",
     "output_type": "stream",
     "text": [
      "\n",
      "Matriz A modificada:\n",
      "[[0 0 0 0 0 0 0 0 0 0 0 0 1]\n",
      " [0 0 0 0 0 0 0 0 0 0 0 0 1]\n",
      " [0 0 0 0 0 0 0 0 0 0 0 0 1]\n",
      " [0 0 0 0 0 0 0 0 0 0 0 0 1]\n",
      " [0 0 0 0 0 0 0 0 0 0 0 0 1]\n",
      " [0 0 0 0 0 0 0 0 0 0 0 0 1]\n",
      " [0 0 0 0 0 0 0 0 0 0 0 0 1]\n",
      " [0 0 0 0 0 0 0 0 0 0 0 0 1]\n",
      " [0 0 0 0 0 0 0 0 0 0 0 0 1]\n",
      " [0 0 0 0 0 0 0 0 0 0 0 0 1]\n",
      " [0 0 0 0 0 0 0 0 0 0 0 0 1]\n",
      " [0 0 0 0 0 0 0 0 0 0 0 0 1]]\n"
     ]
    }
   ],
   "source": [
    "import numpy as np\n",
    "\n",
    "def ler_matriz():\n",
    "    matriz = []\n",
    "    for i in range(12):\n",
    "        linha = list(map(int, input(f\"Digite os 13 elementos da linha {i+1}: \").split()))\n",
    "        matriz.append(linha)\n",
    "    return np.array(matriz)\n",
    "\n",
    "def modificar_matriz(matriz):\n",
    "    for i in range(matriz.shape[0]):\n",
    "        maior_valor = np.max(matriz[i])\n",
    "        matriz[i] = matriz[i] / maior_valor\n",
    "    return matriz\n",
    "\n",
    "def exibir_matriz(matriz):\n",
    "    print(\"\\nMatriz A modificada:\")\n",
    "    print(matriz)\n",
    "\n",
    "matriz_a = ler_matriz()\n",
    "matriz_a_modificada = modificar_matriz(matriz_a)\n",
    "exibir_matriz(matriz_a_modificada)\n"
   ]
  },
  {
   "cell_type": "code",
   "execution_count": 2,
   "id": "42057cfc-f71c-498d-96ec-1d630ce0e1ae",
   "metadata": {},
   "outputs": [
    {
     "name": "stdout",
     "output_type": "stream",
     "text": [
      "Vetor G (Gabarito da loteria esportiva):\n",
      "[2 1 1 2 3 2 3 2 1 3 2 3 2]\n",
      "Vetor G (Gabarito da loteria esportiva): [2 3 1 3 1 1 1 2 2 2 3 2 3]\n",
      "Matriz de apostas:\n",
      "[[0 1 0]\n",
      " [0 1 0]\n",
      " [1 1 0]\n",
      " [0 1 1]\n",
      " [0 0 0]\n",
      " [0 0 0]\n",
      " [0 0 1]\n",
      " [1 0 1]\n",
      " [1 1 1]\n",
      " [1 0 1]\n",
      " [0 1 1]\n",
      " [1 0 0]\n",
      " [0 0 0]]\n",
      "Número de acertos: 5\n",
      "Apostas simples: 4\n",
      "Apostas duplas: 5\n",
      "Apostas triplas: 1\n"
     ]
    }
   ],
   "source": [
    "import numpy as np\n",
    "\n",
    "G = np.random.choice([1, 2, 3], 13)\n",
    "\n",
    "print(\"Vetor G (Gabarito da loteria esportiva):\")\n",
    "print(G)\n",
    "\n",
    "38.\n",
    "\n",
    "import numpy as np\n",
    "\n",
    "G = np.random.choice([1, 2, 3], 13)\n",
    "\n",
    "Apostas = np.random.choice([0, 1], (13, 3)) \n",
    "\n",
    "\n",
    "acertos = 0\n",
    "apostas_simples = 0\n",
    "apostas_duplas = 0\n",
    "apostas_triplas = 0\n",
    "\n",
    "for i in range(13):\n",
    "    if Apostas[i, G[i] - 1] == 1:\n",
    "        acertos += 1\n",
    "    total_apostas = np.sum(Apostas[i, :])\n",
    "    if total_apostas == 1:\n",
    "        apostas_simples += 1\n",
    "    elif total_apostas == 2:\n",
    "        apostas_duplas += 1\n",
    "    elif total_apostas == 3:\n",
    "        apostas_triplas += 1\n",
    "\n",
    "print(\"Vetor G (Gabarito da loteria esportiva):\", G)\n",
    "print(\"Matriz de apostas:\")\n",
    "print(Apostas)\n",
    "print(\"Número de acertos:\", acertos)\n",
    "print(\"Apostas simples:\", apostas_simples)\n",
    "print(\"Apostas duplas:\", apostas_duplas)\n",
    "print(\"Apostas triplas:\", apostas_triplas)\n"
   ]
  },
  {
   "cell_type": "code",
   "execution_count": 3,
   "id": "71bb8ed9-c317-4862-b4fc-6a6e9fdaeb64",
   "metadata": {},
   "outputs": [
    {
     "name": "stdin",
     "output_type": "stream",
     "text": [
      "Digite o primeiro valor:  3\n",
      "Digite o segundo valor:  2\n"
     ]
    },
    {
     "name": "stdout",
     "output_type": "stream",
     "text": [
      "\n",
      "Selecione a operação que deseja realizar:\n",
      "1. Soma\n",
      "2. Subtração\n",
      "3. Multiplicação\n",
      "4. Divisão\n"
     ]
    },
    {
     "name": "stdin",
     "output_type": "stream",
     "text": [
      "Escolha uma operação (1/2/3/4):  3\n"
     ]
    },
    {
     "name": "stdout",
     "output_type": "stream",
     "text": [
      "O resultado da multiplicação é: 6.0\n"
     ]
    }
   ],
   "source": [
    "def soma(a, b):\n",
    "    return a + b\n",
    "\n",
    "def subtracao(a, b):\n",
    "    return a - b\n",
    "\n",
    "def multiplicacao(a, b):\n",
    "    return a * b\n",
    "\n",
    "def divisao(a, b):\n",
    "    if b != 0:\n",
    "        return a / b\n",
    "    else:\n",
    "        return \"Erro! Divisão por zero.\"\n",
    "\n",
    "def exibir_menu():\n",
    "    print(\"\\nSelecione a operação que deseja realizar:\")\n",
    "    print(\"1. Soma\")\n",
    "    print(\"2. Subtração\")\n",
    "    print(\"3. Multiplicação\")\n",
    "    print(\"4. Divisão\")\n",
    "\n",
    "def calculadora():\n",
    "    try:\n",
    "        a = float(input(\"Digite o primeiro valor: \"))\n",
    "        b = float(input(\"Digite o segundo valor: \"))\n",
    "    except ValueError:\n",
    "        print(\"Erro! Entrada inválida. Por favor, digite números válidos.\")\n",
    "        return\n",
    "\n",
    "    exibir_menu()\n",
    "\n",
    "    operacao = input(\"Escolha uma operação (1/2/3/4): \")\n",
    "\n",
    "    if operacao == '1':\n",
    "        print(f\"O resultado da soma é: {soma(a, b)}\")\n",
    "    elif operacao == '2':\n",
    "        print(f\"O resultado da subtração é: {subtracao(a, b)}\")\n",
    "    elif operacao == '3':\n",
    "        print(f\"O resultado da multiplicação é: {multiplicacao(a, b)}\")\n",
    "    elif operacao == '4':\n",
    "        print(f\"O resultado da divisão é: {divisao(a, b)}\")\n",
    "    else:\n",
    "        print(\"Operação inválida!\")\n",
    "\n",
    "calculadora()\n"
   ]
  },
  {
   "cell_type": "code",
   "execution_count": 4,
   "id": "4b5b095f-72d0-4a64-abae-1c1df177bb81",
   "metadata": {},
   "outputs": [
    {
     "name": "stdin",
     "output_type": "stream",
     "text": [
      "Digite o primeiro valor:  3\n",
      "Digite o segundo valor:  4\n"
     ]
    },
    {
     "name": "stdout",
     "output_type": "stream",
     "text": [
      "\n",
      "Selecione a operação que deseja realizar:\n",
      "1. Soma\n",
      "2. Subtração\n",
      "3. Multiplicação\n",
      "4. Divisão\n"
     ]
    },
    {
     "name": "stdin",
     "output_type": "stream",
     "text": [
      "Escolha uma operação (1/2/3/4):  3\n"
     ]
    },
    {
     "name": "stdout",
     "output_type": "stream",
     "text": [
      "O resultado da multiplicação é: 12.0\n"
     ]
    }
   ],
   "source": [
    "def soma(a, b):\n",
    "    return a + b\n",
    "\n",
    "def subtracao(a, b):\n",
    "    return a - b\n",
    "\n",
    "def multiplicacao(a, b):\n",
    "    resultado = 0\n",
    "    for _ in range(abs(int(b))):  # Realiza a soma repetida\n",
    "        resultado = soma(resultado, a)  # Soma 'a' repetidamente\n",
    "    if b < 0:  # Se 'b' for negativo, inverte o sinal do resultado\n",
    "        resultado = -resultado\n",
    "    return resultado\n",
    "\n",
    "def divisao(a, b):\n",
    "    if b != 0:\n",
    "        resultado = 0\n",
    "        while a >= b:\n",
    "            a = subtracao(a, b)\n",
    "            resultado = soma(resultado, 1)\n",
    "        return resultado\n",
    "    else:\n",
    "        return \"Erro! Divisão por zero.\"\n",
    "\n",
    "def exibir_menu():\n",
    "    print(\"\\nSelecione a operação que deseja realizar:\")\n",
    "    print(\"1. Soma\")\n",
    "    print(\"2. Subtração\")\n",
    "    print(\"3. Multiplicação\")\n",
    "    print(\"4. Divisão\")\n",
    "\n",
    "def calculadora():\n",
    "    try:\n",
    "        a = float(input(\"Digite o primeiro valor: \"))\n",
    "        b = float(input(\"Digite o segundo valor: \"))\n",
    "    except ValueError:\n",
    "        print(\"Erro! Entrada inválida. Por favor, digite números válidos.\")\n",
    "        return\n",
    "\n",
    "    exibir_menu()\n",
    "\n",
    "    operacao = input(\"Escolha uma operação (1/2/3/4): \")\n",
    "\n",
    "    if operacao == '1':\n",
    "        print(f\"O resultado da soma é: {soma(a, b)}\")\n",
    "    elif operacao == '2':\n",
    "        print(f\"O resultado da subtração é: {subtracao(a, b)}\")\n",
    "    elif operacao == '3':\n",
    "        print(f\"O resultado da multiplicação é: {multiplicacao(a, b)}\")\n",
    "    elif operacao == '4':\n",
    "        print(f\"O resultado da divisão é: {divisao(a, b)}\")\n",
    "    else:\n",
    "        print(\"Operação inválida!\")\n",
    "\n",
    "calculadora()\n"
   ]
  },
  {
   "cell_type": "code",
   "execution_count": 5,
   "id": "69e3526c-61ef-4aff-9a04-802ce3621bd8",
   "metadata": {},
   "outputs": [
    {
     "name": "stdin",
     "output_type": "stream",
     "text": [
      "Digite a distância percorrida (em metros):  30\n",
      "Digite o tempo gasto (em segundos):  30\n"
     ]
    },
    {
     "name": "stdout",
     "output_type": "stream",
     "text": [
      "A velocidade média é 1.0 metros por segundo.\n"
     ]
    }
   ],
   "source": [
    "def velocidade_media(distancia, tempo):\n",
    "    if tempo == 0:\n",
    "        return \"Erro! O tempo não pode ser zero.\"\n",
    "    return distancia / tempo\n",
    "\n",
    "distancia = float(input(\"Digite a distância percorrida (em metros): \"))\n",
    "tempo = float(input(\"Digite o tempo gasto (em segundos): \"))\n",
    "\n",
    "resultado = velocidade_media(distancia, tempo)\n",
    "\n",
    "if isinstance(resultado, str):\n",
    "    print(resultado)\n",
    "else:\n",
    "    print(f\"A velocidade média é {resultado} metros por segundo.\")\n"
   ]
  },
  {
   "cell_type": "code",
   "execution_count": 6,
   "id": "bceadb1e-0efc-4c9a-a319-50e468ceefd3",
   "metadata": {},
   "outputs": [
    {
     "name": "stdin",
     "output_type": "stream",
     "text": [
      "Digite um número:  10\n"
     ]
    },
    {
     "name": "stdout",
     "output_type": "stream",
     "text": [
      "Recebido: 10\n",
      "Crescente: 01\n",
      "Decrescente: 10\n",
      "Reverso: 01\n"
     ]
    }
   ],
   "source": [
    "def organizar_numero(numero):\n",
    "    numero_str = str(numero)  \n",
    "    lista_digitos = list(numero_str)  \n",
    "\n",
    "    crescente = ''.join(sorted(lista_digitos))  \n",
    "    decrescente = ''.join(sorted(lista_digitos, reverse=True))  \n",
    "    reverso = numero_str[::-1]  \n",
    "\n",
    "    print(f\"Recebido: {numero}\")\n",
    "    print(f\"Crescente: {crescente}\")\n",
    "    print(f\"Decrescente: {decrescente}\")\n",
    "    print(f\"Reverso: {reverso}\")\n",
    "\n",
    "numero = int(input(\"Digite um número: \"))\n",
    "organizar_numero(numero)\n"
   ]
  },
  {
   "cell_type": "code",
   "execution_count": 7,
   "id": "f7f2d34e-9b07-4d78-bec2-a0e695831773",
   "metadata": {},
   "outputs": [
    {
     "name": "stdin",
     "output_type": "stream",
     "text": [
      "Digite a hora (formato 24h):  12\n",
      "Digite os minutos:  30\n"
     ]
    },
    {
     "name": "stdout",
     "output_type": "stream",
     "text": [
      "12:30 P.M.\n"
     ]
    },
    {
     "name": "stdin",
     "output_type": "stream",
     "text": [
      "\n",
      "Deseja converter outra hora? (s/n):  n\n"
     ]
    },
    {
     "name": "stdout",
     "output_type": "stream",
     "text": [
      "Até logo!\n"
     ]
    }
   ],
   "source": [
    "def converter_24h_para_12h(hora_24, minuto_24):\n",
    "    if hora_24 == 0:\n",
    "        hora_12 = 12\n",
    "        periodo = 'A'\n",
    "    elif hora_24 < 12:\n",
    "        hora_12 = hora_24\n",
    "        periodo = 'A'\n",
    "    elif hora_24 == 12:\n",
    "        hora_12 = 12\n",
    "        periodo = 'P'\n",
    "    else:\n",
    "        hora_12 = hora_24 - 12\n",
    "        periodo = 'P'\n",
    "    \n",
    "    return hora_12, minuto_24, periodo\n",
    "\n",
    "def exibir_hora_convertida(hora_12, minuto_24, periodo):\n",
    "    print(f\"{hora_12}:{minuto_24:02d} {periodo}.M.\")\n",
    "\n",
    "def main():\n",
    "    while True:\n",
    "        try:\n",
    "            hora_24 = int(input(\"Digite a hora (formato 24h): \"))\n",
    "            minuto_24 = int(input(\"Digite os minutos: \"))\n",
    "            if not (0 <= hora_24 < 24) or not (0 <= minuto_24 < 60):\n",
    "                print(\"Por favor, insira uma hora e minutos válidos.\")\n",
    "                continue\n",
    "        except ValueError:\n",
    "            print(\"Entrada inválida. Digite números inteiros.\")\n",
    "            continue\n",
    "\n",
    "        hora_12, minuto_12, periodo = converter_24h_para_12h(hora_24, minuto_24)\n",
    "        exibir_hora_convertida(hora_12, minuto_12, periodo)\n",
    "\n",
    "        continuar = input(\"\\nDeseja converter outra hora? (s/n): \").strip().lower()\n",
    "        if continuar != 's':\n",
    "            print(\"Até logo!\")\n",
    "            break\n",
    "\n",
    "main()"
   ]
  },
  {
   "cell_type": "code",
   "execution_count": 8,
   "id": "2a8e7baa-28c2-4a17-90f4-6331c58b3cbd",
   "metadata": {},
   "outputs": [
    {
     "name": "stdin",
     "output_type": "stream",
     "text": [
      "Digite a data no formato DD/MM/AAAA:  10/01/2007\n"
     ]
    },
    {
     "name": "stdout",
     "output_type": "stream",
     "text": [
      "10 de Janeiro de 2007\n"
     ]
    },
    {
     "name": "stdin",
     "output_type": "stream",
     "text": [
      "Digite a data no formato DD/MM/AAAA:  29/01/2015\n"
     ]
    },
    {
     "name": "stdout",
     "output_type": "stream",
     "text": [
      "29 de Janeiro de 2015\n"
     ]
    }
   ],
   "source": [
    "import datetime\n",
    "\n",
    "def obter_mes_por_extenso(mes):\n",
    "    meses = [\n",
    "        \"Janeiro\", \"Fevereiro\", \"Março\", \"Abril\", \"Maio\", \"Junho\",\n",
    "        \"Julho\", \"Agosto\", \"Setembro\", \"Outubro\", \"Novembro\", \"Dezembro\"\n",
    "    ]\n",
    "    return meses[mes-1]\n",
    "\n",
    "def validar_data(data_str):\n",
    "    try:\n",
    "        data = datetime.datetime.strptime(data_str, \"%d/%m/%Y\")\n",
    "        return data\n",
    "    except ValueError:\n",
    "        return None\n",
    "\n",
    "def data_com_mes_por_extenso(data_str):\n",
    "    data = validar_data(data_str)\n",
    "    \n",
    "    if data is None:\n",
    "        return None\n",
    "    \n",
    "    dia = data.day\n",
    "    mes = data.month\n",
    "    ano = data.year\n",
    "    \n",
    "    mes_extenso = obter_mes_por_extenso(mes)\n",
    "    \n",
    "    return f\"{dia} de {mes_extenso} de {ano}\"\n",
    "\n",
    "# Exemplo de uso\n",
    "data_input = input(\"Digite a data no formato DD/MM/AAAA: \")\n",
    "resultado = data_com_mes_por_extenso(data_input)\n",
    "\n",
    "if resultado:\n",
    "    print(resultado)\n",
    "else:\n",
    "    print(\"Data inválida.\")\n",
    "import datetime\n",
    "\n",
    "def obter_mes_por_extenso(mes):\n",
    "    meses = [\n",
    "        \"Janeiro\", \"Fevereiro\", \"Março\", \"Abril\", \"Maio\", \"Junho\",\n",
    "        \"Julho\", \"Agosto\", \"Setembro\", \"Outubro\", \"Novembro\", \"Dezembro\"\n",
    "    ]\n",
    "    return meses[mes-1]\n",
    "\n",
    "def validar_data(data_str):\n",
    "    try:\n",
    "        data = datetime.datetime.strptime(data_str, \"%d/%m/%Y\")\n",
    "        return data\n",
    "    except ValueError:\n",
    "        return None\n",
    "\n",
    "def data_com_mes_por_extenso(data_str):\n",
    "    data = validar_data(data_str)\n",
    "    \n",
    "    if data is None:\n",
    "        return None\n",
    "    \n",
    "    dia = data.day\n",
    "    mes = data.month\n",
    "    ano = data.year\n",
    "    \n",
    "    mes_extenso = obter_mes_por_extenso(mes)\n",
    "    \n",
    "    return f\"{dia} de {mes_extenso} de {ano}\"\n",
    "\n",
    "# Exemplo de uso\n",
    "data_input = input(\"Digite a data no formato DD/MM/AAAA: \")\n",
    "resultado = data_com_mes_por_extenso(data_input)\n",
    "\n",
    "if resultado:\n",
    "    print(resultado)\n",
    "else:\n",
    "    print(\"Data inválida.\")\n"
   ]
  }
 ],
 "metadata": {
  "kernelspec": {
   "display_name": "Python 3 (ipykernel)",
   "language": "python",
   "name": "python3"
  },
  "language_info": {
   "codemirror_mode": {
    "name": "ipython",
    "version": 3
   },
   "file_extension": ".py",
   "mimetype": "text/x-python",
   "name": "python",
   "nbconvert_exporter": "python",
   "pygments_lexer": "ipython3",
   "version": "3.12.7"
  }
 },
 "nbformat": 4,
 "nbformat_minor": 5
}
